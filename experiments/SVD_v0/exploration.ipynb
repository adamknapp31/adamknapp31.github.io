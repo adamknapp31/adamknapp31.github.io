{
 "cells": [
  {
   "cell_type": "code",
   "execution_count": 42,
   "metadata": {},
   "outputs": [],
   "source": [
    "import os\n",
    "import sys\n",
    "import json\n",
    "import subprocess\n",
    "import mlflow\n",
    "from surprise import Dataset, Reader, SVD, accuracy\n",
    "from surprise.model_selection import train_test_split, GridSearchCV\n",
    "import pickle"
   ]
  },
  {
   "cell_type": "code",
   "execution_count": 43,
   "metadata": {},
   "outputs": [],
   "source": [
    "#import data\n",
    "data_path = os.path.join(\"..\", \"..\", \"data\", \"kafka_log_(2024-02-11T16_2024-02-11T16).csv\")\n",
    "\n",
    "xx, user_rating_data_df, xxx = utilities.process_csv(data_path)"
   ]
  },
  {
   "cell_type": "code",
   "execution_count": 61,
   "metadata": {},
   "outputs": [],
   "source": [
    "#Set up ML Flow\n",
    "MLFLOW_TRACKING_TOKEN = os.environ.get(\"MLFLOW_TRACKING_TOKEN\")\n",
    "MLFLOW_TRACKING_URI = os.environ.get(\"MLFLOW_TRACKING_URI\")\n",
    "mlflow.set_tracking_uri(MLFLOW_TRACKING_URI)"
   ]
  },
  {
   "cell_type": "code",
   "execution_count": 74,
   "metadata": {},
   "outputs": [],
   "source": [
    "def train_and_evaluate_model(user_rating_data_df):\n",
    "    reader = Reader(rating_scale=(1, 5))\n",
    "    data = Dataset.load_from_df(user_rating_data_df[['UserID', 'Title', 'Rating']], reader)\n",
    "\n",
    "    param_grid = {\n",
    "        'n_factors': [50, 100, 150],\n",
    "        'n_epochs': [20, 30],\n",
    "        'lr_all': [0.005, 0.010],\n",
    "        'reg_all': [0.02, 0.05]\n",
    "    }\n",
    "\n",
    "    gs = GridSearchCV(SVD, param_grid, measures=['rmse', 'mae'], cv=3, n_jobs=-1)\n",
    "    gs.fit(data)\n",
    "\n",
    "    best_model_params = gs.best_params['rmse']\n",
    "    print(f\"Best model parameters: {best_model_params}\")\n",
    "\n",
    "    # Now, let's evaluate the best model on a separate test set\n",
    "    trainset, testset = train_test_split(data, test_size=0.25)\n",
    "    best_model = SVD(**best_model_params)\n",
    "    best_model.fit(trainset.build_full_trainset())\n",
    "\n",
    "    predictions = best_model.test(testset)\n",
    "    rmse = accuracy.rmse(predictions, verbose=True)\n",
    "    mae = accuracy.mae(predictions, verbose=True)\n",
    "\n",
    "    print(f\"Test Set RMSE: {rmse}\")\n",
    "    print(f\"Test Set MAE: {mae}\")\n",
    "\n",
    "\n",
    "    ### Log best model ###\n",
    "\n",
    "    #Set up the experiment and the run in that experiment\n",
    "    mlflow.set_experiment(experiment_name=f'SVD_v0')\n",
    "    mlflow.start_run(run_name=f\"Candidate {2}\")\n",
    "\n",
    "    # Log the best hyperparameters\n",
    "    for param, value in best_model_params.items():\n",
    "        mlflow.log_param(f\"best_{param}\", value)\n",
    "\n",
    "    # Log performance of model \n",
    "    mlflow.log_metric(f\"RMSE\", rmse)\n",
    "    mlflow.log_metric(f\"MAE\", mae)\n",
    "\n",
    "    # Log dataset path \n",
    "    csv_file_path = \"data/kafka_log_(2024-02-11T16_2024-02-11T16).csv\"\n",
    "    mlflow.log_param(\"dataset_path\", csv_file_path)\n",
    "\n",
    "    # Log Python version\n",
    "    mlflow.log_param(\"python_version\", sys.version)\n",
    "\n",
    "    # Log requirements.txt and make a requirements.txt if not there\n",
    "    requirements_file = \"requirements.txt\"\n",
    "    if not os.path.exists(requirements_file):\n",
    "        print(\"requirements.txt not found, generating...\")\n",
    "        requirements = subprocess.check_output([sys.executable, '-m', 'pip', 'freeze']).decode('utf-8')\n",
    "        with open(requirements_file, \"w\") as f:\n",
    "            f.write(requirements)\n",
    "    mlflow.log_artifact(requirements_file)\n",
    "\n",
    "    # Serialize and log the best model\n",
    "    model_filename = \"best_SVD_model.pkl\"\n",
    "    with open(model_filename, \"wb\") as f:\n",
    "        pickle.dump(best_model, f)\n",
    "    mlflow.log_artifact(model_filename)\n",
    "\n",
    "    #end the logging \n",
    "    mlflow.end_run()\n",
    "    \n",
    "    return best_model\n"
   ]
  },
  {
   "cell_type": "code",
   "execution_count": 75,
   "metadata": {},
   "outputs": [
    {
     "ename": "AttributeError",
     "evalue": "'Trainset' object has no attribute 'build_full_trainset'",
     "output_type": "error",
     "traceback": [
      "\u001b[1;31m---------------------------------------------------------------------------\u001b[0m",
      "\u001b[1;31mAttributeError\u001b[0m                            Traceback (most recent call last)",
      "Cell \u001b[1;32mIn[75], line 1\u001b[0m\n\u001b[1;32m----> 1\u001b[0m best_model \u001b[38;5;241m=\u001b[39m \u001b[43mtrain_and_evaluate_model\u001b[49m\u001b[43m(\u001b[49m\u001b[43muser_rating_data_df\u001b[49m\u001b[43m)\u001b[49m\n",
      "Cell \u001b[1;32mIn[74], line 20\u001b[0m, in \u001b[0;36mtrain_and_evaluate_model\u001b[1;34m(user_rating_data_df)\u001b[0m\n\u001b[0;32m     18\u001b[0m trainset, testset \u001b[38;5;241m=\u001b[39m train_test_split(data, test_size\u001b[38;5;241m=\u001b[39m\u001b[38;5;241m0.25\u001b[39m)\n\u001b[0;32m     19\u001b[0m best_model \u001b[38;5;241m=\u001b[39m SVD(\u001b[38;5;241m*\u001b[39m\u001b[38;5;241m*\u001b[39mbest_model_params)\n\u001b[1;32m---> 20\u001b[0m best_model\u001b[38;5;241m.\u001b[39mfit(\u001b[43mtrainset\u001b[49m\u001b[38;5;241;43m.\u001b[39;49m\u001b[43mbuild_full_trainset\u001b[49m())\n\u001b[0;32m     22\u001b[0m predictions \u001b[38;5;241m=\u001b[39m best_model\u001b[38;5;241m.\u001b[39mtest(testset)\n\u001b[0;32m     23\u001b[0m rmse \u001b[38;5;241m=\u001b[39m accuracy\u001b[38;5;241m.\u001b[39mrmse(predictions, verbose\u001b[38;5;241m=\u001b[39m\u001b[38;5;28;01mTrue\u001b[39;00m)\n",
      "\u001b[1;31mAttributeError\u001b[0m: 'Trainset' object has no attribute 'build_full_trainset'"
     ]
    }
   ],
   "source": [
    "\n",
    "best_model = train_and_evaluate_model(user_rating_data_df)"
   ]
  },
  {
   "cell_type": "code",
   "execution_count": 55,
   "metadata": {},
   "outputs": [],
   "source": [
    "mlflow.end_run()"
   ]
  },
  {
   "cell_type": "code",
   "execution_count": 66,
   "metadata": {},
   "outputs": [],
   "source": [
    "mlflow.set_experiment(experiment_name=f\"A nice demo\")\n",
    "mlflow.start_run(run_name=f\"Candidate {2}\")\n",
    "mlflow.log_param(\"l1_ratio\", 3)\n",
    "mlflow.log_metric(\"rmse\", 5)\n",
    "mlflow.end_run()"
   ]
  },
  {
   "cell_type": "code",
   "execution_count": null,
   "metadata": {},
   "outputs": [],
   "source": []
  }
 ],
 "metadata": {
  "kernelspec": {
   "display_name": "GitLab_Experiments",
   "language": "python",
   "name": "python3"
  },
  "language_info": {
   "codemirror_mode": {
    "name": "ipython",
    "version": 3
   },
   "file_extension": ".py",
   "mimetype": "text/x-python",
   "name": "python",
   "nbconvert_exporter": "python",
   "pygments_lexer": "ipython3",
   "version": "3.9.19"
  }
 },
 "nbformat": 4,
 "nbformat_minor": 2
}
