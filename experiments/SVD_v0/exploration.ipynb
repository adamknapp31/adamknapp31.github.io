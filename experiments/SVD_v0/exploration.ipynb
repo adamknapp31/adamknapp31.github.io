{
 "cells": [
  {
   "cell_type": "code",
   "execution_count": 42,
   "metadata": {},
   "outputs": [],
   "source": [
    "import os\n",
    "import sys\n",
    "import json\n",
    "import subprocess\n",
    "import mlflow\n",
    "from surprise import Dataset, Reader, SVD, accuracy\n",
    "from surprise.model_selection import train_test_split, GridSearchCV\n",
    "import pickle"
   ]
  },
  {
   "cell_type": "code",
   "execution_count": 43,
   "metadata": {},
   "outputs": [],
   "source": [
    "#import data\n",
    "data_path = os.path.join(\"..\", \"..\", \"data\", \"kafka_log_(2024-02-11T16_2024-02-11T16).csv\")\n",
    "\n",
    "xx, user_rating_data_df, xxx = utilities.process_csv(data_path)"
   ]
  },
  {
   "cell_type": "code",
   "execution_count": 61,
   "metadata": {},
   "outputs": [],
   "source": [
    "#Set up ML Flow\n",
    "MLFLOW_TRACKING_TOKEN = os.environ.get(\"MLFLOW_TRACKING_TOKEN\")\n",
    "MLFLOW_TRACKING_URI = os.environ.get(\"MLFLOW_TRACKING_URI\")\n",
    "mlflow.set_tracking_uri(MLFLOW_TRACKING_URI)"
   ]
  },
  {
   "cell_type": "code",
   "execution_count": 78,
   "metadata": {},
   "outputs": [],
   "source": [
    "\n",
    "def train_and_evaluate_model(user_rating_data_df):\n",
    "    reader = Reader(rating_scale=(1, 5))\n",
    "    data = Dataset.load_from_df(user_rating_data_df[['UserID', 'Title', 'Rating']], reader)\n",
    "\n",
    "    param_grid = {\n",
    "        'n_factors': [50, 100, 150],\n",
    "        'n_epochs': [20, 30],\n",
    "        'lr_all': [0.005, 0.010],\n",
    "        'reg_all': [0.02, 0.05]\n",
    "    }\n",
    "\n",
    "    gs = GridSearchCV(SVD, param_grid, measures=['rmse', 'mae'], cv=3, n_jobs=-1)\n",
    "    gs.fit(data)\n",
    "\n",
    "    best_model_params = gs.best_params['rmse']\n",
    "    print(f\"Best model parameters: {best_model_params}\")\n",
    "\n",
    "    # Splitting the dataset into training and testing sets\n",
    "    trainset, testset = train_test_split(data, test_size=0.25)\n",
    "    \n",
    "    # Initialize the best model with the best parameters\n",
    "    best_model = SVD(**best_model_params)\n",
    "    \n",
    "    # Directly fit the best model to the training set\n",
    "    best_model.fit(trainset)\n",
    "\n",
    "    # Test the best model on the test set\n",
    "    predictions = best_model.test(testset)\n",
    "    \n",
    "    # Calculate and print the performance metrics\n",
    "    rmse = accuracy.rmse(predictions, verbose=True)\n",
    "    mae = accuracy.mae(predictions, verbose=True)\n",
    "\n",
    "    print(f\"Test Set RMSE: {rmse}\")\n",
    "    print(f\"Test Set MAE: {mae}\")\n",
    "\n",
    "\n",
    "    ### Log best model ###\n",
    "\n",
    "    #Set up the experiment and the run in that experiment\n",
    "    mlflow.set_experiment(experiment_name=f'SVD_v0')\n",
    "    mlflow.start_run(run_name=f\"Candidate {2}\")\n",
    "\n",
    "    # Log the best hyperparameters\n",
    "    for param, value in best_model_params.items():\n",
    "        mlflow.log_param(f\"best_{param}\", value)\n",
    "\n",
    "    # Log performance of model \n",
    "    mlflow.log_metric(f\"RMSE\", rmse)\n",
    "    mlflow.log_metric(f\"MAE\", mae)\n",
    "\n",
    "    # Log dataset path \n",
    "    csv_file_path = \"data/kafka_log_(2024-02-11T16_2024-02-11T16).csv\"\n",
    "    mlflow.log_param(\"dataset_path\", csv_file_path)\n",
    "\n",
    "    # Log Python version\n",
    "    mlflow.log_param(\"python_version\", sys.version)\n",
    "\n",
    "    # Log requirements.txt and make a requirements.txt if not there\n",
    "    requirements_file = \"requirements.txt\"\n",
    "    if not os.path.exists(requirements_file):\n",
    "        print(\"requirements.txt not found, generating...\")\n",
    "        requirements = subprocess.check_output([sys.executable, '-m', 'pip', 'freeze']).decode('utf-8')\n",
    "        with open(requirements_file, \"w\") as f:\n",
    "            f.write(requirements)\n",
    "    mlflow.log_artifact(requirements_file)\n",
    "\n",
    "    # Serialize and log the best model\n",
    "    model_filename = \"best_SVD_model.pkl\"\n",
    "    with open(model_filename, \"wb\") as f:\n",
    "        pickle.dump(best_model, f)\n",
    "    mlflow.log_artifact(model_filename)\n",
    "\n",
    "    #end the logging \n",
    "    mlflow.end_run()\n",
    "    \n",
    "    return best_model\n"
   ]
  },
  {
   "cell_type": "code",
   "execution_count": 79,
   "metadata": {},
   "outputs": [
    {
     "name": "stdout",
     "output_type": "stream",
     "text": [
      "Best model parameters: {'n_factors': 50, 'n_epochs': 30, 'lr_all': 0.01, 'reg_all': 0.05}\n",
      "RMSE: 0.7160\n",
      "MAE:  0.5935\n",
      "Test Set RMSE: 0.715992460665762\n",
      "Test Set MAE: 0.5935309250408688\n"
     ]
    }
   ],
   "source": [
    "\n",
    "best_model = train_and_evaluate_model(user_rating_data_df)"
   ]
  },
  {
   "cell_type": "code",
   "execution_count": 55,
   "metadata": {},
   "outputs": [],
   "source": [
    "mlflow.end_run()"
   ]
  }
 ],
 "metadata": {
  "kernelspec": {
   "display_name": "GitLab_Experiments",
   "language": "python",
   "name": "python3"
  },
  "language_info": {
   "codemirror_mode": {
    "name": "ipython",
    "version": 3
   },
   "file_extension": ".py",
   "mimetype": "text/x-python",
   "name": "python",
   "nbconvert_exporter": "python",
   "pygments_lexer": "ipython3",
   "version": "3.9.19"
  }
 },
 "nbformat": 4,
 "nbformat_minor": 2
}
